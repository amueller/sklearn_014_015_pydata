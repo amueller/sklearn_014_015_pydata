{
 "metadata": {
  "name": ""
 },
 "nbformat": 3,
 "nbformat_minor": 0,
 "worksheets": [
  {
   "cells": [
    {
     "cell_type": "markdown",
     "metadata": {
      "slideshow": {
       "slide_type": "slide"
      }
     },
     "source": [
      "<img src=sklearn-logo.png width=300>\n",
      "\n",
      "Machine Learning with scikit-learn\n",
      "===================================\n",
      "Andreas Mueller"
     ]
    },
    {
     "cell_type": "markdown",
     "metadata": {
      "slideshow": {
       "slide_type": "slide"
      }
     },
     "source": [
      "Overview\n",
      "=========\n",
      "- Lightning tour of scikit-learn\n",
      "- Latest goodies in stable (0.14)\n",
      "    - GridSearchCV with arbitrary metrics\n",
      "    - Randomized Search\n",
      "    - Partial Fit in Naive Bayes\n",
      "    - (Feature Imputation)\n",
      "    - (AdaBoost)\n",
      "    - (RBMs)\n",
      "    - ...\n",
      "- Upcoming goodies in next release (0.15)\n",
      "    - Way better trees and forests\n",
      "    - Sparse support for trees (?)\n",
      "    - make_pipeline, make_union\n",
      "    - (Ransac)"
     ]
    },
    {
     "cell_type": "markdown",
     "metadata": {
      "slideshow": {
       "slide_type": "slide"
      }
     },
     "source": [
      "<img src=\"cheat_sheet.png\" width=1000>"
     ]
    },
    {
     "cell_type": "code",
     "collapsed": false,
     "input": [
      "from sklearn.datasets import load_digits\n",
      "digits = load_digits()\n",
      "\n",
      "X, y = digits.data, digits.target\n",
      "print(X.shape)\n",
      "print(y.shape)\n",
      "plt.matshow(X[0, :].reshape(8, 8))"
     ],
     "language": "python",
     "metadata": {
      "slideshow": {
       "slide_type": "slide"
      }
     },
     "outputs": [
      {
       "output_type": "stream",
       "stream": "stdout",
       "text": [
        "(1797, 64)\n",
        "(1797,)\n"
       ]
      },
      {
       "metadata": {},
       "output_type": "pyout",
       "prompt_number": 2,
       "text": [
        "<matplotlib.image.AxesImage at 0x7f2c6ba07490>"
       ]
      },
      {
       "metadata": {},
       "output_type": "display_data",
       "png": "[encoded data removed]",
       "text": [
        "<matplotlib.figure.Figure at 0x7f2c6bb05950>"
       ]
      }
     ],
     "prompt_number": 2
    },
    {
     "cell_type": "code",
     "collapsed": false,
     "input": [
      "from sklearn.cross_validation import train_test_split\n",
      "X_train, X_test, y_train, y_test = train_test_split(X, y)\n",
      "\n",
      "from sklearn.ensemble import RandomForestClassifier\n",
      "rf = RandomForestClassifier(n_estimators=50)\n",
      "\n",
      "rf.fit(X_train, y_train)\n",
      "print(rf.score(X_test, y_test))"
     ],
     "language": "python",
     "metadata": {
      "slideshow": {
       "slide_type": "slide"
      }
     },
     "outputs": [
      {
       "output_type": "stream",
       "stream": "stdout",
       "text": [
        "0.973333333333\n"
       ]
      }
     ],
     "prompt_number": 3
    },
    {
     "cell_type": "code",
     "collapsed": false,
     "input": [
      "from sklearn.grid_search import GridSearchCV\n",
      "\n",
      "search = GridSearchCV(rf, param_grid={'max_depth': [1, 3, 5, 10]}, cv=5)\n",
      "search.fit(X_train, y_train)\n",
      "print(search.score(X_test, y_test))"
     ],
     "language": "python",
     "metadata": {
      "slideshow": {
       "slide_type": "fragment"
      }
     },
     "outputs": [
      {
       "output_type": "stream",
       "stream": "stdout",
       "text": [
        "0.98\n"
       ]
      }
     ],
     "prompt_number": 4
    },
    {
     "cell_type": "markdown",
     "metadata": {
      "slideshow": {
       "slide_type": "slide"
      }
     },
     "source": [
      "0.14 Cherries\n",
      "======================="
     ]
    },
    {
     "cell_type": "markdown",
     "metadata": {
      "slideshow": {
       "slide_type": "slide"
      }
     },
     "source": [
      "Grid Search with Arbitrary Metrics\n",
      "==================================="
     ]
    },
    {
     "cell_type": "code",
     "collapsed": false,
     "input": [
      "import pandas as pd\n",
      "df_train = pd.read_csv(\"../../biology_datasets_stuff/AID687red_train.csv\")\n",
      "print(df_train.Outcome.value_counts())\n",
      "\n",
      "X_train, y_train = df_train.values[:, :-1], df_train.values[:, -1]\n",
      "y_train = y_train == 'Active'\n",
      "\n",
      "print(X_train.shape)\n",
      "print(y_train.shape)"
     ],
     "language": "python",
     "metadata": {},
     "outputs": [
      {
       "output_type": "stream",
       "stream": "stdout",
       "text": [
        "Inactive    26378\n",
        "Active         76\n",
        "dtype: int64\n",
        "(26454, 153)"
       ]
      },
      {
       "output_type": "stream",
       "stream": "stdout",
       "text": [
        "\n",
        "(26454,)\n"
       ]
      }
     ],
     "prompt_number": 5
    },
    {
     "cell_type": "code",
     "collapsed": false,
     "input": [
      "search = GridSearchCV(rf, param_grid={'max_depth': [1, 3, 5, 10]}, cv=3, verbose=10)\n",
      "search.fit(X_train, y_train)"
     ],
     "language": "python",
     "metadata": {
      "slideshow": {
       "slide_type": "slide"
      }
     },
     "outputs": [
      {
       "output_type": "stream",
       "stream": "stdout",
       "text": [
        "Fitting 3 folds for each of 4 candidates, totalling 12 fits\n",
        "[CV] max_depth=1 .....................................................\n",
        "[CV] ............................ max_depth=1, score=0.997052 -   0.7s"
       ]
      },
      {
       "output_type": "stream",
       "stream": "stdout",
       "text": [
        "\n",
        "[CV] max_depth=1 .....................................................\n",
        "[CV] ............................ max_depth=1, score=0.997165 -   0.7s"
       ]
      },
      {
       "output_type": "stream",
       "stream": "stderr",
       "text": [
        "[Parallel(n_jobs=1)]: Done   1 jobs       | elapsed:    0.7s\n",
        "[Parallel(n_jobs=1)]: Done   2 jobs       | elapsed:    1.4s\n"
       ]
      },
      {
       "output_type": "stream",
       "stream": "stdout",
       "text": [
        "\n",
        "[CV] max_depth=1 .....................................................\n",
        "[CV] ............................ max_depth=1, score=0.997165 -   0.6s"
       ]
      },
      {
       "output_type": "stream",
       "stream": "stdout",
       "text": [
        "\n",
        "[CV] max_depth=3 .....................................................\n",
        "[CV] ............................ max_depth=3, score=0.997052 -   1.2s"
       ]
      },
      {
       "output_type": "stream",
       "stream": "stdout",
       "text": [
        "\n",
        "[CV] max_depth=3 .....................................................\n",
        "[CV] ............................ max_depth=3, score=0.997165 -   1.2s"
       ]
      },
      {
       "output_type": "stream",
       "stream": "stdout",
       "text": [
        "\n",
        "[CV] max_depth=3 .....................................................\n",
        "[CV] ............................ max_depth=3, score=0.997165 -   1.2s"
       ]
      },
      {
       "output_type": "stream",
       "stream": "stdout",
       "text": [
        "\n",
        "[CV] max_depth=5 .....................................................\n",
        "[CV] ............................ max_depth=5, score=0.997052 -   1.7s"
       ]
      },
      {
       "output_type": "stream",
       "stream": "stdout",
       "text": [
        "\n",
        "[CV] max_depth=5 .....................................................\n",
        "[CV] ............................ max_depth=5, score=0.997165 -   1.7s"
       ]
      },
      {
       "output_type": "stream",
       "stream": "stderr",
       "text": [
        "[Parallel(n_jobs=1)]: Done   5 jobs       | elapsed:    4.5s\n",
        "[Parallel(n_jobs=1)]: Done   8 jobs       | elapsed:    9.1s\n"
       ]
      },
      {
       "output_type": "stream",
       "stream": "stdout",
       "text": [
        "\n",
        "[CV] max_depth=5 .....................................................\n",
        "[CV] ............................ max_depth=5, score=0.997165 -   1.5s"
       ]
      },
      {
       "output_type": "stream",
       "stream": "stdout",
       "text": [
        "\n",
        "[CV] max_depth=10 ....................................................\n",
        "[CV] ........................... max_depth=10, score=0.997052 -   2.4s"
       ]
      },
      {
       "output_type": "stream",
       "stream": "stdout",
       "text": [
        "\n",
        "[CV] max_depth=10 ....................................................\n",
        "[CV] ........................... max_depth=10, score=0.997165 -   2.4s"
       ]
      },
      {
       "output_type": "stream",
       "stream": "stdout",
       "text": [
        "\n",
        "[CV] max_depth=10 ....................................................\n",
        "[CV] ........................... max_depth=10, score=0.997165 -   2.0s"
       ]
      },
      {
       "output_type": "stream",
       "stream": "stdout",
       "text": [
        "\n"
       ]
      },
      {
       "output_type": "stream",
       "stream": "stderr",
       "text": [
        "[Parallel(n_jobs=1)]: Done  12 out of  12 | elapsed:   17.6s finished\n"
       ]
      },
      {
       "metadata": {},
       "output_type": "pyout",
       "prompt_number": 6,
       "text": [
        "GridSearchCV(cv=3,\n",
        "       estimator=RandomForestClassifier(bootstrap=True, compute_importances=None,\n",
        "            criterion='gini', max_depth=None, max_features='auto',\n",
        "            max_leaf_nodes=None, min_density=None, min_samples_leaf=1,\n",
        "            min_samples_split=2, n_estimators=50, n_jobs=1,\n",
        "            oob_score=False, random_state=None, verbose=0),\n",
        "       fit_params={}, iid=True, loss_func=None, n_jobs=1,\n",
        "       param_grid={'max_depth': [1, 3, 5, 10]}, pre_dispatch='2*n_jobs',\n",
        "       refit=True, score_func=None, scoring=None, verbose=10)"
       ]
      }
     ],
     "prompt_number": 6
    },
    {
     "cell_type": "code",
     "collapsed": false,
     "input": [
      "search = GridSearchCV(rf, param_grid={'max_depth': [1, 3, 5, 10]}, scoring='roc_auc', cv=3, verbose=10)\n",
      "search.fit(X_train, y_train)"
     ],
     "language": "python",
     "metadata": {
      "slideshow": {
       "slide_type": "slide"
      }
     },
     "outputs": [
      {
       "output_type": "stream",
       "stream": "stdout",
       "text": [
        "Fitting 3 folds for each of 4 candidates, totalling 12 fits\n",
        "[CV] max_depth=1 .....................................................\n",
        "[CV] ............................ max_depth=1, score=0.512567 -   0.6s"
       ]
      },
      {
       "output_type": "stream",
       "stream": "stdout",
       "text": [
        "\n",
        "[CV] max_depth=1 .....................................................\n",
        "[CV] ............................ max_depth=1, score=0.636133 -   0.7s"
       ]
      },
      {
       "output_type": "stream",
       "stream": "stderr",
       "text": [
        "[Parallel(n_jobs=1)]: Done   1 jobs       | elapsed:    0.7s\n",
        "[Parallel(n_jobs=1)]: Done   2 jobs       | elapsed:    1.3s\n"
       ]
      },
      {
       "output_type": "stream",
       "stream": "stdout",
       "text": [
        "\n",
        "[CV] max_depth=1 .....................................................\n",
        "[CV] ............................ max_depth=1, score=0.518901 -   0.7s"
       ]
      },
      {
       "output_type": "stream",
       "stream": "stdout",
       "text": [
        "\n",
        "[CV] max_depth=3 .....................................................\n",
        "[CV] ............................ max_depth=3, score=0.605206 -   1.3s"
       ]
      },
      {
       "output_type": "stream",
       "stream": "stdout",
       "text": [
        "\n",
        "[CV] max_depth=3 .....................................................\n",
        "[CV] ............................ max_depth=3, score=0.726676 -   1.2s"
       ]
      },
      {
       "output_type": "stream",
       "stream": "stdout",
       "text": [
        "\n",
        "[CV] max_depth=3 .....................................................\n",
        "[CV] ............................ max_depth=3, score=0.503169 -   1.1s"
       ]
      },
      {
       "output_type": "stream",
       "stream": "stdout",
       "text": [
        "\n",
        "[CV] max_depth=5 .....................................................\n",
        "[CV] ............................ max_depth=5, score=0.656628 -   1.5s"
       ]
      },
      {
       "output_type": "stream",
       "stream": "stdout",
       "text": [
        "\n",
        "[CV] max_depth=5 .....................................................\n",
        "[CV] ............................ max_depth=5, score=0.686492 -   1.5s"
       ]
      },
      {
       "output_type": "stream",
       "stream": "stderr",
       "text": [
        "[Parallel(n_jobs=1)]: Done   5 jobs       | elapsed:    4.5s\n",
        "[Parallel(n_jobs=1)]: Done   8 jobs       | elapsed:    8.7s\n"
       ]
      },
      {
       "output_type": "stream",
       "stream": "stdout",
       "text": [
        "\n",
        "[CV] max_depth=5 .....................................................\n",
        "[CV] ............................ max_depth=5, score=0.448053 -   1.8s"
       ]
      },
      {
       "output_type": "stream",
       "stream": "stdout",
       "text": [
        "\n",
        "[CV] max_depth=10 ....................................................\n",
        "[CV] ........................... max_depth=10, score=0.704019 -   2.4s"
       ]
      },
      {
       "output_type": "stream",
       "stream": "stdout",
       "text": [
        "\n",
        "[CV] max_depth=10 ....................................................\n",
        "[CV] ........................... max_depth=10, score=0.641576 -   2.5s"
       ]
      },
      {
       "output_type": "stream",
       "stream": "stdout",
       "text": [
        "\n",
        "[CV] max_depth=10 ....................................................\n",
        "[CV] ........................... max_depth=10, score=0.503469 -   2.1s"
       ]
      },
      {
       "output_type": "stream",
       "stream": "stdout",
       "text": [
        "\n"
       ]
      },
      {
       "output_type": "stream",
       "stream": "stderr",
       "text": [
        "[Parallel(n_jobs=1)]: Done  12 out of  12 | elapsed:   17.6s finished\n"
       ]
      },
      {
       "metadata": {},
       "output_type": "pyout",
       "prompt_number": 7,
       "text": [
        "GridSearchCV(cv=3,\n",
        "       estimator=RandomForestClassifier(bootstrap=True, compute_importances=None,\n",
        "            criterion='gini', max_depth=None, max_features='auto',\n",
        "            max_leaf_nodes=None, min_density=None, min_samples_leaf=1,\n",
        "            min_samples_split=2, n_estimators=50, n_jobs=1,\n",
        "            oob_score=False, random_state=None, verbose=0),\n",
        "       fit_params={}, iid=True, loss_func=None, n_jobs=1,\n",
        "       param_grid={'max_depth': [1, 3, 5, 10]}, pre_dispatch='2*n_jobs',\n",
        "       refit=True, score_func=None, scoring='roc_auc', verbose=10)"
       ]
      }
     ],
     "prompt_number": 7
    },
    {
     "cell_type": "code",
     "collapsed": false,
     "input": [
      "param_grid = {'max_depth': [1, 3, 5, 10]}\n",
      "GridSearchCV(rf, param_grid, scoring='accuracy')\n",
      "GridSearchCV(rf, param_grid, scoring='roc_auc')\n",
      "GridSearchCV(rf, param_grid, scoring='average_precision');\n"
     ],
     "language": "python",
     "metadata": {
      "slideshow": {
       "slide_type": "slide"
      }
     },
     "outputs": [],
     "prompt_number": 8
    },
    {
     "cell_type": "code",
     "collapsed": false,
     "input": [
      "from sklearn.metrics import SCORERS\n",
      "for scoring in SCORERS:\n",
      "    print(scoring)"
     ],
     "language": "python",
     "metadata": {
      "slideshow": {
       "slide_type": "fragment"
      }
     },
     "outputs": [
      {
       "output_type": "stream",
       "stream": "stdout",
       "text": [
        "adjusted_rand_score\n",
        "f1\n",
        "mean_absolute_error\n",
        "r2\n",
        "recall\n",
        "precision\n",
        "log_loss\n",
        "mean_squared_error\n",
        "roc_auc\n",
        "average_precision\n",
        "accuracy\n"
       ]
      }
     ],
     "prompt_number": 9
    },
    {
     "cell_type": "markdown",
     "metadata": {},
     "source": [
      "Defining your own scorer\n",
      "-------------------------"
     ]
    },
    {
     "cell_type": "code",
     "collapsed": false,
     "input": [
      "from sklearn.metrics import make_scorer\n",
      "\n",
      "def my_freaky_loss(y_true, probability):\n",
      "    return np.sum(probability[np.arange(len(y_true)), y_true] > .4)\n",
      "\n",
      "my_freaky_scorer = make_scorer(my_freaky_loss, needs_probability=True)\n",
      "GridSearchCV(rf, param_grid, scoring=my_freaky_scorer)\n",
      "\n",
      "class SuperFreakyScorer(object):\n",
      "    def __apply__(self, estimator, X, y_true):\n",
      "        return estimator.score(X, y_true) + .1 * np.linalg.norm(estimator.coef_)\n",
      "    \n",
      "GridSearchCV(rf, param_grid, scoring=SuperFreakyScorer());\n"
     ],
     "language": "python",
     "metadata": {
      "slideshow": {
       "slide_type": "-"
      }
     },
     "outputs": [],
     "prompt_number": 10
    },
    {
     "cell_type": "markdown",
     "metadata": {
      "slideshow": {
       "slide_type": "slide"
      }
     },
     "source": [
      "Randomize Parameter Search\n",
      "============================="
     ]
    },
    {
     "cell_type": "code",
     "collapsed": false,
     "input": [
      "from sklearn.pipeline import Pipeline\n",
      "from sklearn.feature_selection import SelectKBest\n",
      "from sklearn.svm import SVC\n",
      "from sklearn.grid_search import RandomizedSearchCV\n",
      "\n",
      "from scipy.stats import expon\n",
      "\n",
      "X, y = digits.data, digits.target\n",
      "\n",
      "pipe = Pipeline([(\"feature_selection\", SelectKBest()), (\"classifier\", SVC())])\n",
      "param_distribution = {'feature_selection__k': np.arange(1, X.shape[1]), 'classifier__C': expon(0, 1),\n",
      "                      'classifier__gamma': expon(0, 1), 'classifier__kernel': ['linear', 'rbf', 'poly'],\n",
      "                      'classifier__degree': [1, 2, 3, 4]}\n",
      "\n",
      "                      \n",
      "search = RandomizedSearchCV(pipe, param_distribution, verbose=10)\n",
      "\n",
      "search.fit(X, y)\n",
      "print(search.best_params_)"
     ],
     "language": "python",
     "metadata": {},
     "outputs": [
      {
       "output_type": "stream",
       "stream": "stdout",
       "text": [
        "Fitting 3 folds for each of 10 candidates, totalling 30 fits\n",
        "[CV] classifier__gamma=0.335314216496, feature_selection__k=23, classifier__kernel=rbf, classifier__C=3.31917816307, classifier__degree=1 \n",
        "[CV]  classifier__gamma=0.335314216496, feature_selection__k=23, classifier__kernel=rbf, classifier__C=3.31917816307, classifier__degree=1, score=0.101329 -   0.3s"
       ]
      },
      {
       "output_type": "stream",
       "stream": "stdout",
       "text": [
        "\n",
        "[CV] classifier__gamma=0.335314216496, feature_selection__k=23, classifier__kernel=rbf, classifier__C=3.31917816307, classifier__degree=1 \n",
        "[CV]  classifier__gamma=0.335314216496, feature_selection__k=23, classifier__kernel=rbf, classifier__C=3.31917816307, classifier__degree=1, score=0.101836 -   0.3s"
       ]
      },
      {
       "output_type": "stream",
       "stream": "stderr",
       "text": [
        "[Parallel(n_jobs=1)]: Done   1 jobs       | elapsed:    0.4s\n",
        "[Parallel(n_jobs=1)]: Done   2 jobs       | elapsed:    0.7s\n"
       ]
      },
      {
       "output_type": "stream",
       "stream": "stdout",
       "text": [
        "\n",
        "[CV] classifier__gamma=0.335314216496, feature_selection__k=23, classifier__kernel=rbf, classifier__C=3.31917816307, classifier__degree=1 \n",
        "[CV]  classifier__gamma=0.335314216496, feature_selection__k=23, classifier__kernel=rbf, classifier__C=3.31917816307, classifier__degree=1, score=0.107383 -   0.4s"
       ]
      },
      {
       "output_type": "stream",
       "stream": "stdout",
       "text": [
        "\n",
        "[CV] classifier__gamma=2.87413444829, feature_selection__k=12, classifier__kernel=poly, classifier__C=0.322414162306, classifier__degree=1 \n",
        "[CV]  classifier__gamma=2.87413444829, feature_selection__k=12, classifier__kernel=poly, classifier__C=0.322414162306, classifier__degree=1, score=0.802326 -   0.1s"
       ]
      },
      {
       "output_type": "stream",
       "stream": "stdout",
       "text": [
        "\n",
        "[CV] classifier__gamma=2.87413444829, feature_selection__k=12, classifier__kernel=poly, classifier__C=0.322414162306, classifier__degree=1 \n",
        "[CV]  classifier__gamma=2.87413444829, feature_selection__k=12, classifier__kernel=poly, classifier__C=0.322414162306, classifier__degree=1, score=0.833055 -   0.1s"
       ]
      },
      {
       "output_type": "stream",
       "stream": "stdout",
       "text": [
        "\n",
        "[CV] classifier__gamma=2.87413444829, feature_selection__k=12, classifier__kernel=poly, classifier__C=0.322414162306, classifier__degree=1 \n",
        "[CV]  classifier__gamma=2.87413444829, feature_selection__k=12, classifier__kernel=poly, classifier__C=0.322414162306, classifier__degree=1, score=0.862416 -   0.1s"
       ]
      },
      {
       "output_type": "stream",
       "stream": "stdout",
       "text": [
        "\n",
        "[CV] classifier__gamma=0.408546693714, feature_selection__k=19, classifier__kernel=linear, classifier__C=0.87747803831, classifier__degree=2 \n",
        "[CV]  classifier__gamma=0.408546693714, feature_selection__k=19, classifier__kernel=linear, classifier__C=0.87747803831, classifier__degree=2, score=0.867110 -   0.1s"
       ]
      },
      {
       "output_type": "stream",
       "stream": "stdout",
       "text": [
        "\n",
        "[CV] classifier__gamma=0.408546693714, feature_selection__k=19, classifier__kernel=linear, classifier__C=0.87747803831, classifier__degree=2 \n",
        "[CV]  classifier__gamma=0.408546693714, feature_selection__k=19, classifier__kernel=linear, classifier__C=0.87747803831, classifier__degree=2, score=0.884808 -   0.1s"
       ]
      },
      {
       "output_type": "stream",
       "stream": "stderr",
       "text": [
        "[Parallel(n_jobs=1)]: Done   5 jobs       | elapsed:    1.3s\n",
        "[Parallel(n_jobs=1)]: Done   8 jobs       | elapsed:    1.5s\n"
       ]
      },
      {
       "output_type": "stream",
       "stream": "stdout",
       "text": [
        "\n",
        "[CV] classifier__gamma=0.408546693714, feature_selection__k=19, classifier__kernel=linear, classifier__C=0.87747803831, classifier__degree=2 \n",
        "[CV]  classifier__gamma=0.408546693714, feature_selection__k=19, classifier__kernel=linear, classifier__C=0.87747803831, classifier__degree=2, score=0.884228 -   0.0s\n",
        "[CV] classifier__gamma=0.868135456142, feature_selection__k=13, classifier__kernel=poly, classifier__C=1.36382557441, classifier__degree=1 \n",
        "[CV]  classifier__gamma=0.868135456142, feature_selection__k=13, classifier__kernel=poly, classifier__C=1.36382557441, classifier__degree=1, score=0.813953 -   0.1s"
       ]
      },
      {
       "output_type": "stream",
       "stream": "stdout",
       "text": [
        "\n",
        "[CV] classifier__gamma=0.868135456142, feature_selection__k=13, classifier__kernel=poly, classifier__C=1.36382557441, classifier__degree=1 \n",
        "[CV]  classifier__gamma=0.868135456142, feature_selection__k=13, classifier__kernel=poly, classifier__C=1.36382557441, classifier__degree=1, score=0.811352 -   0.1s"
       ]
      },
      {
       "output_type": "stream",
       "stream": "stdout",
       "text": [
        "\n",
        "[CV] classifier__gamma=0.868135456142, feature_selection__k=13, classifier__kernel=poly, classifier__C=1.36382557441, classifier__degree=1 \n",
        "[CV]  classifier__gamma=0.868135456142, feature_selection__k=13, classifier__kernel=poly, classifier__C=1.36382557441, classifier__degree=1, score=0.874161 -   0.1s"
       ]
      },
      {
       "output_type": "stream",
       "stream": "stdout",
       "text": [
        "\n",
        "[CV] classifier__gamma=0.298388302253, feature_selection__k=34, classifier__kernel=rbf, classifier__C=0.190885100882, classifier__degree=3 \n",
        "[CV]  classifier__gamma=0.298388302253, feature_selection__k=34, classifier__kernel=rbf, classifier__C=0.190885100882, classifier__degree=3, score=0.101329 -   0.4s"
       ]
      },
      {
       "output_type": "stream",
       "stream": "stdout",
       "text": [
        "\n",
        "[CV] classifier__gamma=0.298388302253, feature_selection__k=34, classifier__kernel=rbf, classifier__C=0.190885100882, classifier__degree=3 \n",
        "[CV]  classifier__gamma=0.298388302253, feature_selection__k=34, classifier__kernel=rbf, classifier__C=0.190885100882, classifier__degree=3, score=0.101836 -   0.4s"
       ]
      },
      {
       "output_type": "stream",
       "stream": "stdout",
       "text": [
        "\n",
        "[CV] classifier__gamma=0.298388302253, feature_selection__k=34, classifier__kernel=rbf, classifier__C=0.190885100882, classifier__degree=3 \n",
        "[CV]  classifier__gamma=0.298388302253, feature_selection__k=34, classifier__kernel=rbf, classifier__C=0.190885100882, classifier__degree=3, score=0.102349 -   0.4s"
       ]
      },
      {
       "output_type": "stream",
       "stream": "stdout",
       "text": [
        "\n",
        "[CV] classifier__gamma=0.801001171213, feature_selection__k=18, classifier__kernel=linear, classifier__C=0.782075076832, classifier__degree=2 \n",
        "[CV]  classifier__gamma=0.801001171213, feature_selection__k=18, classifier__kernel=linear, classifier__C=0.782075076832, classifier__degree=2, score=0.860465 -   0.1s"
       ]
      },
      {
       "output_type": "stream",
       "stream": "stdout",
       "text": [
        "\n",
        "[CV] classifier__gamma=0.801001171213, feature_selection__k=18, classifier__kernel=linear, classifier__C=0.782075076832, classifier__degree=2 \n",
        "[CV]  classifier__gamma=0.801001171213, feature_selection__k=18, classifier__kernel=linear, classifier__C=0.782075076832, classifier__degree=2, score=0.876461 -   0.1s"
       ]
      },
      {
       "output_type": "stream",
       "stream": "stderr",
       "text": [
        "[Parallel(n_jobs=1)]: Done  13 jobs       | elapsed:    2.2s\n",
        "[Parallel(n_jobs=1)]: Done  18 jobs       | elapsed:    3.2s\n"
       ]
      },
      {
       "output_type": "stream",
       "stream": "stdout",
       "text": [
        "\n",
        "[CV] classifier__gamma=0.801001171213, feature_selection__k=18, classifier__kernel=linear, classifier__C=0.782075076832, classifier__degree=2 \n",
        "[CV]  classifier__gamma=0.801001171213, feature_selection__k=18, classifier__kernel=linear, classifier__C=0.782075076832, classifier__degree=2, score=0.890940 -   0.0s\n",
        "[CV] classifier__gamma=0.203785393038, feature_selection__k=17, classifier__kernel=rbf, classifier__C=0.0471829793991, classifier__degree=4 \n",
        "[CV]  classifier__gamma=0.203785393038, feature_selection__k=17, classifier__kernel=rbf, classifier__C=0.0471829793991, classifier__degree=4, score=0.101329 -   0.3s"
       ]
      },
      {
       "output_type": "stream",
       "stream": "stdout",
       "text": [
        "\n",
        "[CV] classifier__gamma=0.203785393038, feature_selection__k=17, classifier__kernel=rbf, classifier__C=0.0471829793991, classifier__degree=4 \n",
        "[CV]  classifier__gamma=0.203785393038, feature_selection__k=17, classifier__kernel=rbf, classifier__C=0.0471829793991, classifier__degree=4, score=0.101836 -   0.3s"
       ]
      },
      {
       "output_type": "stream",
       "stream": "stdout",
       "text": [
        "\n",
        "[CV] classifier__gamma=0.203785393038, feature_selection__k=17, classifier__kernel=rbf, classifier__C=0.0471829793991, classifier__degree=4 \n",
        "[CV]  classifier__gamma=0.203785393038, feature_selection__k=17, classifier__kernel=rbf, classifier__C=0.0471829793991, classifier__degree=4, score=0.102349 -   0.3s"
       ]
      },
      {
       "output_type": "stream",
       "stream": "stdout",
       "text": [
        "\n",
        "[CV] classifier__gamma=0.067164898333, feature_selection__k=53, classifier__kernel=rbf, classifier__C=0.116103842091, classifier__degree=3 \n",
        "[CV]  classifier__gamma=0.067164898333, feature_selection__k=53, classifier__kernel=rbf, classifier__C=0.116103842091, classifier__degree=3, score=0.101329 -   0.4s"
       ]
      },
      {
       "output_type": "stream",
       "stream": "stdout",
       "text": [
        "\n",
        "[CV] classifier__gamma=0.067164898333, feature_selection__k=53, classifier__kernel=rbf, classifier__C=0.116103842091, classifier__degree=3 \n",
        "[CV]  classifier__gamma=0.067164898333, feature_selection__k=53, classifier__kernel=rbf, classifier__C=0.116103842091, classifier__degree=3, score=0.101836 -   0.5s"
       ]
      },
      {
       "output_type": "stream",
       "stream": "stdout",
       "text": [
        "\n",
        "[CV] classifier__gamma=0.067164898333, feature_selection__k=53, classifier__kernel=rbf, classifier__C=0.116103842091, classifier__degree=3 \n",
        "[CV]  classifier__gamma=0.067164898333, feature_selection__k=53, classifier__kernel=rbf, classifier__C=0.116103842091, classifier__degree=3, score=0.105705 -   0.5s"
       ]
      },
      {
       "output_type": "stream",
       "stream": "stdout",
       "text": [
        "\n",
        "[CV] classifier__gamma=0.525281471483, feature_selection__k=25, classifier__kernel=rbf, classifier__C=1.09546626059, classifier__degree=1 \n",
        "[CV]  classifier__gamma=0.525281471483, feature_selection__k=25, classifier__kernel=rbf, classifier__C=1.09546626059, classifier__degree=1, score=0.101329 -   0.4s"
       ]
      },
      {
       "output_type": "stream",
       "stream": "stdout",
       "text": [
        "\n",
        "[CV] classifier__gamma=0.525281471483, feature_selection__k=25, classifier__kernel=rbf, classifier__C=1.09546626059, classifier__degree=1 \n",
        "[CV]  classifier__gamma=0.525281471483, feature_selection__k=25, classifier__kernel=rbf, classifier__C=1.09546626059, classifier__degree=1, score=0.101836 -   0.4s"
       ]
      },
      {
       "output_type": "stream",
       "stream": "stdout",
       "text": [
        "\n",
        "[CV] classifier__gamma=0.525281471483, feature_selection__k=25, classifier__kernel=rbf, classifier__C=1.09546626059, classifier__degree=1 \n",
        "[CV]  classifier__gamma=0.525281471483, feature_selection__k=25, classifier__kernel=rbf, classifier__C=1.09546626059, classifier__degree=1, score=0.104027 -   0.5s"
       ]
      },
      {
       "output_type": "stream",
       "stream": "stdout",
       "text": [
        "\n",
        "[CV] classifier__gamma=0.13254553227, feature_selection__k=31, classifier__kernel=rbf, classifier__C=0.402178660603, classifier__degree=2 \n",
        "[CV]  classifier__gamma=0.13254553227, feature_selection__k=31, classifier__kernel=rbf, classifier__C=0.402178660603, classifier__degree=2, score=0.101329 -   0.4s"
       ]
      },
      {
       "output_type": "stream",
       "stream": "stdout",
       "text": [
        "\n",
        "[CV] classifier__gamma=0.13254553227, feature_selection__k=31, classifier__kernel=rbf, classifier__C=0.402178660603, classifier__degree=2 \n",
        "[CV]  classifier__gamma=0.13254553227, feature_selection__k=31, classifier__kernel=rbf, classifier__C=0.402178660603, classifier__degree=2, score=0.101836 -   0.4s"
       ]
      },
      {
       "output_type": "stream",
       "stream": "stdout",
       "text": [
        "\n",
        "[CV] classifier__gamma=0.13254553227, feature_selection__k=31, classifier__kernel=rbf, classifier__C=0.402178660603, classifier__degree=2 \n",
        "[CV]  classifier__gamma=0.13254553227, feature_selection__k=31, classifier__kernel=rbf, classifier__C=0.402178660603, classifier__degree=2, score=0.105705 -   0.4s"
       ]
      },
      {
       "output_type": "stream",
       "stream": "stderr",
       "text": [
        "[Parallel(n_jobs=1)]: Done  25 jobs       | elapsed:    5.9s\n",
        "[Parallel(n_jobs=1)]: Done  30 out of  30 | elapsed:    7.9s finished\n"
       ]
      },
      {
       "output_type": "stream",
       "stream": "stdout",
       "text": [
        "\n",
        "{'classifier__gamma': 0.4085466937138656, 'feature_selection__k': 19, 'classifier__kernel': 'linear', 'classifier__C': 0.8774780383096409, 'classifier__degree': 2}"
       ]
      },
      {
       "output_type": "stream",
       "stream": "stdout",
       "text": [
        "\n"
       ]
      }
     ],
     "prompt_number": 12
    },
    {
     "cell_type": "markdown",
     "metadata": {
      "slideshow": {
       "slide_type": "slide"
      }
     },
     "source": [
      "Partial Fit in Naive Bayes\n",
      "==============================\n"
     ]
    },
    {
     "cell_type": "code",
     "collapsed": false,
     "input": [
      "from sklearn.naive_bayes import MultinomialNB\n",
      "\n",
      "nb = MultinomialNB()\n",
      "\n",
      "\n",
      "for i in range(10):\n",
      "    y_train_partial = np.load(\"y_train_%d.npy\" % i)\n",
      "    X_train_partial = np.load(\"X_train_%d.npy\" % i)\n",
      "    nb.partial_fit(X_train_partial, y_train_partial, classes=np.arange(10))\n",
      "\n",
      "X_test, y_test = np.load(\"X_test.npy\"), np.load(\"y_test.npy\")\n",
      "nb.score(X_test, y_test)"
     ],
     "language": "python",
     "metadata": {},
     "outputs": [
      {
       "metadata": {},
       "output_type": "pyout",
       "prompt_number": 18,
       "text": [
        "0.8357"
       ]
      }
     ],
     "prompt_number": 18
    },
    {
     "cell_type": "markdown",
     "metadata": {
      "slideshow": {
       "slide_type": "slide"
      }
     },
     "source": [
      "0.15 crowd pleasers\n",
      "============================"
     ]
    },
    {
     "cell_type": "markdown",
     "metadata": {
      "slideshow": {
       "slide_type": "slide"
      }
     },
     "source": [
      "Threading in Joblib\n",
      "===================\n",
      "Aka: Trees in Random Forsts share "
     ]
    },
    {
     "cell_type": "code",
     "collapsed": false,
     "input": [
      "results = Parallel(n_jobs=self.n_jobs, verbose=self.verbose, backend=\"threading\")(\n",
      "        delayed(_parallel_apply)(tree, X) for tree in self.estimators_)"
     ],
     "language": "python",
     "metadata": {},
     "outputs": []
    },
    {
     "cell_type": "markdown",
     "metadata": {
      "slideshow": {
       "slide_type": "slide"
      }
     },
     "source": [
      "\n",
      "More good stuff in tree models\n",
      "-------------------------------\n",
      "- Support for C and Fortran arrays in trees.\n",
      "- Faster mse computation.\n",
      "- max_leaf_node stopping criterion for trees.\n",
      "- feature caching for Extra Trees.\n",
      "- some improvements to gradient boosting.\n",
      "- 4-8x speed improvement for parallel computations!"
     ]
    },
    {
     "cell_type": "markdown",
     "metadata": {
      "slideshow": {
       "slide_type": "slide"
      }
     },
     "source": [
      "Sparse Matrix Support for Tree Models\n",
      "---------------------------------------\n",
      "(maybe)"
     ]
    },
    {
     "cell_type": "markdown",
     "metadata": {
      "slideshow": {
       "slide_type": "slide"
      }
     },
     "source": [
      "Sugar\n",
      "-----"
     ]
    },
    {
     "cell_type": "code",
     "collapsed": false,
     "input": [
      "from sklearn.feature_extraction.text import CountVectorizer\n",
      "from sklearn.svm import LinearSVC\n",
      "\n",
      "# before:\n",
      "from sklearn.pipeline import Pipeline, FeatureUnion\n",
      "pipe = Pipeline([(\"features\", FeatureUnion([(\"word_ngrams\", CountVectorizer()), (\"char_ngrams\", CountVectorizer(analyzer=\"char\"))])),\n",
      "          (\"svm\", LinearSVC())])\n",
      "print(pipe)\n",
      "\n",
      "# now:\n",
      "from sklearn.pipeline import make_pipeline, make_union\n",
      "pipe = make_pipeline(make_union(CountVectorizer(), CountVectorizer(analyzer=\"char\")),\n",
      "                     LinearSVC())\n",
      "print(pipe)"
     ],
     "language": "python",
     "metadata": {
      "slideshow": {
       "slide_type": "-"
      }
     },
     "outputs": [
      {
       "output_type": "stream",
       "stream": "stdout",
       "text": [
        "Pipeline(steps=[('features', FeatureUnion(n_jobs=1,\n",
        "       transformer_list=[('word_ngrams', CountVectorizer(analyzer=u'word', binary=False, charset=None,\n",
        "        charset_error=None, decode_error=u'strict',\n",
        "        dtype=<type 'numpy.int64'>, encoding=u'utf-8', input=u'content',\n",
        "        lowercase=True, max_d...ling=1, loss='l2', multi_class='ovr', penalty='l2',\n",
        "     random_state=None, tol=0.0001, verbose=0))])\n",
        "Pipeline(steps=[('featureunion', FeatureUnion(n_jobs=1,\n",
        "       transformer_list=[('countvectorizer-1', CountVectorizer(analyzer=u'word', binary=False, charset=None,\n",
        "        charset_error=None, decode_error=u'strict',\n",
        "        dtype=<type 'numpy.int64'>, encoding=u'utf-8', input=u'content',\n",
        "        lowercase=T...ling=1, loss='l2', multi_class='ovr', penalty='l2',\n",
        "     random_state=None, tol=0.0001, verbose=0))])\n"
       ]
      }
     ],
     "prompt_number": 23
    },
    {
     "cell_type": "markdown",
     "metadata": {
      "slideshow": {
       "slide_type": "slide"
      }
     },
     "source": [
      "<span style=\"font-size:22px\">Thanks to</span>\n",
      "\n",
      "<style type=\"text/css\">\n",
      ".rendered_html table,.rendered_html tr,.rendered_html th,.rendered_html td{border:0px solid black;border-collapse:collapse;margin:1em 2em;}\n",
      "\n",
      "</style>\n",
      "\n",
      "<table boder=\"0\" style=\"font-size:22px; border:0px solid white;\" width=90%>\n",
      "<tr><td>@ogrisel  </td><td>@GaelVaroquaux</td></tr> \n",
      "<tr><td>@larsmans </td><td>@glouppe</td></tr> \n",
      "<tr><td>@pprett   </td><td>@vene</td></tr> \n",
      "<tr><td>@mblondel </td><td>@agramfort</td></tr> \n",
      "<tr><td>@arjoly   </td><td>@jaquesgrobler</td></tr> \n",
      "<tr><td>@jakevdp  </td><td>@robertlayton</td></tr> \n",
      "<tr><td>@NelleV   </td><td>@ndawe</td></tr> \n",
      "<tr><td>@jnothmann</td><td> </td></tr> \n",
      "</table>\n",
      "\n",
      "\n",
      "<span style=\"font-size:22px\">and many more....</span>"
     ]
    },
    {
     "cell_type": "markdown",
     "metadata": {
      "slideshow": {
       "slide_type": "slide"
      }
     },
     "source": [
      "<table style=\"font-size:16pt; border:None\">\n",
      "<tr style=\"border:None\"><td style=\"border:None\"><img src=\"mail_icon.jpeg\" width=50></td><td style=\"border:None; vertical-align:middle\">t3kcit@gmail.com</td></tr>\n",
      "<tr style=\"border:None\"><td style=\"border:None\"><img src=\"twitter_icon.png\" width=50></td><td style=\"border:None; vertical-align:middle\">@t3kcit</td></tr>\n",
      "<tr style=\"border:None\"><td style=\"border:None\"><img src=\"octobiwan.jpg\" width=50></td><td style=\"border:None; vertical-align:middle\">@amueller</td></tr>\n",
      "<tr style=\"border:None\"><td style=\"border:None\"><img src=\"blogger_icon.png\" width=50></td><td style=\"border:None; vertical-align:middle\">peekaboo-vision.blogspot.com</td></tr>\n",
      "</table>\n"
     ]
    }
   ],
   "metadata": {}
  }
 ]
}